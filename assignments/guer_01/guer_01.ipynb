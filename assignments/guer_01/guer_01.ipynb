{
 "cells": [
  {
   "cell_type": "markdown",
   "metadata": {},
   "source": [
    "# Guerrilla 1: Recursion and Tree Recursion\n",
    "\n",
    "## Questions"
   ]
  },
  {
   "cell_type": "markdown",
   "metadata": {},
   "source": [
    "### Q1.1\n",
    "\n",
    "- Base case(s): simplest cases that can be easily evaluated.\n",
    "- Ways to simplify the problem.\n",
    "- Recursive call(s): call(s) to the function itself, but now with simplified arguments."
   ]
  },
  {
   "cell_type": "markdown",
   "metadata": {},
   "source": [
    "### Q1.2\n",
    "\n",
    "Because the evaluation is not done until the function is called."
   ]
  },
  {
   "cell_type": "markdown",
   "metadata": {},
   "source": [
    "### Q1.3\n",
    "\n",
    "- Base cases: `n == 0` and `n == 1`.\n",
    "- Ways to simplify the problem: arguments are changed from `n` to `n-1` and `n-2`.\n",
    "- Recursive calls: `fib(n-1)` and `fib(n-2)`,"
   ]
  },
  {
   "cell_type": "markdown",
   "metadata": {},
   "source": [
    "### Q1.4\n",
    "\n",
    "Done in paper."
   ]
  },
  {
   "cell_type": "markdown",
   "metadata": {},
   "source": [
    "### Q1.5\n",
    "\n",
    "Domain is intergers and range is None. Given a number `n` it prints the same number but without the last digit, without the two last digits and so on, and then back up to the original number."
   ]
  },
  {
   "cell_type": "markdown",
   "metadata": {},
   "source": [
    "### Q1.6, 7 & 8\n",
    "\n",
    "Done in Python file."
   ]
  }
 ],
 "metadata": {
  "kernelspec": {
   "display_name": "Python 3",
   "language": "python",
   "name": "python3"
  },
  "language_info": {
   "codemirror_mode": {
    "name": "ipython",
    "version": 3
   },
   "file_extension": ".py",
   "mimetype": "text/x-python",
   "name": "python",
   "nbconvert_exporter": "python",
   "pygments_lexer": "ipython3",
   "version": "3.7.7"
  }
 },
 "nbformat": 4,
 "nbformat_minor": 4
}
