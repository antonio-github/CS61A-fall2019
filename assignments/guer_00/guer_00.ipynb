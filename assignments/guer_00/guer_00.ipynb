{
 "cells": [
  {
   "cell_type": "markdown",
   "metadata": {},
   "source": [
    "# Guerrilla 0: Functions, Control, Environments, HOFs"
   ]
  },
  {
   "cell_type": "markdown",
   "metadata": {},
   "source": [
    "## Functions"
   ]
  },
  {
   "cell_type": "markdown",
   "metadata": {},
   "source": [
    "### Q1.1\n",
    "\n",
    "```python\n",
    ">>> from operator import add, mul\n",
    ">>> mul(add(5, 6), 8)\n",
    "\n",
    ">>> print('x')\n",
    "\n",
    ">>> y = print('x')\n",
    "\n",
    ">>> print(y)\n",
    "\n",
    ">>> print(add(4, 2),print('a'))\n",
    "\n",
    "```\n",
    "- `88`. $11 \\cdot 8 = 88$.\n",
    "- `x`. `print` evaluates to `None`, which displays nothing.\n",
    "- `x`\n",
    "- `None`\n",
    "- `a`, `6 None`. First evaluate `print('a')` which prints `a`, then `print(6,None)`"
   ]
  },
  {
   "cell_type": "markdown",
   "metadata": {},
   "source": [
    "### Q1.2\n",
    "```python\n",
    ">>> def foo(x):\n",
    "...     print(x)\n",
    "...     return x + 1\n",
    ">>> def bar(y, x): \n",
    "...     print(x - y)\n",
    ">>> foo(3)\n",
    "\n",
    ">>> bar(3)\n",
    "\n",
    ">>> bar(6, 1)\n",
    "\n",
    ">>> bar(foo(10), 11)\n",
    "\n",
    "```\n",
    "- `3`, `4`\n",
    "- `Error`\n",
    "- `-5`\n",
    "- `10`, `0`"
   ]
  },
  {
   "cell_type": "markdown",
   "metadata": {},
   "source": [
    "## Control"
   ]
  },
  {
   "cell_type": "markdown",
   "metadata": {},
   "source": [
    "### Q2.1\n",
    "```python\n",
    "n = 0\n",
    "if n:\n",
    "    print(1)\n",
    "elif n < 2:\n",
    "    print(2)\n",
    "else:\n",
    "    print(3)\n",
    "print(4)\n",
    "```\n",
    "Errata: `:` missing before `elif`. Numbers printed: 2 and 4."
   ]
  },
  {
   "cell_type": "markdown",
   "metadata": {},
   "source": [
    "### Q2.2\n",
    "\n",
    "```python\n",
    ">>> 0 and 1 / 0\n",
    "\n",
    ">>> 6 or 1 or \"a\" or 1 / 0\n",
    "\n",
    ">>> 6 and 1 and \"a\" and 1 / 0\n",
    "\n",
    ">>> print(print(4) and 2)\n",
    "\n",
    ">>> not True and print(\"a\")\n",
    "\n",
    "```\n",
    "- `0`\n",
    "- `6`. Only expression that is evaluated.\n",
    "- `Error`\n",
    "- `4`, `None`\n",
    "- `False`"
   ]
  },
  {
   "cell_type": "markdown",
   "metadata": {},
   "source": [
    "### Q2.3\n",
    "\n",
    "```python\n",
    "def count_digits(n):\n",
    "    '''\n",
    "    >>> count_digits(4)\n",
    "    1\n",
    "    >>> count_digits(12345678)\n",
    "    8\n",
    "    >>> count_digits(0)\n",
    "    0\n",
    "    '''\n",
    "    n_digits = 0\n",
    "    while n >= 1:\n",
    "        n_digits += 1\n",
    "        n /= 10\n",
    "    return n_digits\n",
    "```\n",
    "Idea: we keep dividing `n` by 10 up to a point where it will be lower than 1. Then the number of times we have divided by 10 will be number of digits of an integer"
   ]
  },
  {
   "cell_type": "markdown",
   "metadata": {},
   "source": [
    "### Q2.4\n",
    "\n",
    "```python\n",
    "def count_matches(n, m):\n",
    "    '''\n",
    "    >>> count_matches(10, 30)\n",
    "    1\n",
    "    >>> count_matches(12345, 23456)\n",
    "    0\n",
    "    >>> count_matches(121212, 123123)\n",
    "    2\n",
    "    >>> count_matches(123, 23)\n",
    "    2\n",
    "    >>> count_matches(111, 11) # only one's place matches\n",
    "    2\n",
    "    >>> count_matches(101, 10) # no place matches\n",
    "    0\n",
    "    '''\n",
    "    matches = 0\n",
    "    def get_digit(n):\n",
    "        n /= 10\n",
    "        floor_n = int(n)\n",
    "        digit = 10*(n - floor_n)\n",
    "        return floor_n, digit\n",
    "    while (n>=1) and (m>=1):\n",
    "        n, digit_n = get_digit(n)\n",
    "        m, digit_m = get_digit(m)\n",
    "        dif = round(digit_n) - round(digit_m)\n",
    "        if not dif:\n",
    "            matches += 1\n",
    "    return matches\n",
    "```\n",
    "Again, use the same idea of dividing by 10. To extract the digit, substract the floor of the number. `dif` must be rounded because it is not an int and thus the `if` clause fails. \n",
    "\n",
    "Later I came up with a more elegant solutions, which happens to be the same provided in the Solutions file. It does not track the digits, but it avoids the int/float problem by using the modulo function."
   ]
  },
  {
   "cell_type": "markdown",
   "metadata": {},
   "source": [
    "## Higher Order Functions"
   ]
  },
  {
   "cell_type": "markdown",
   "metadata": {},
   "source": [
    "### Q4.1\n",
    "\n",
    "- Lambda expressions create an anonimous function and evaluates to it.\n",
    "- Yes, because the functions created by lambda expressions behave equally as `def` functions, except they do not have an intrinsic name.\n",
    "    - WRONG: lambda functions only have a single statement (return statement), thus the cannot create complex functions. It is true that the behave as `def` functions.\n",
    "- They can be useful for:\n",
    "    1. Shortening notation.\n",
    "    2. Functions that do not need to be called except for a single place in the program."
   ]
  },
  {
   "cell_type": "markdown",
   "metadata": {},
   "source": [
    "### Q4.2\n",
    "\n",
    "```python\n",
    ">>> 1/0\n",
    "\n",
    ">>> boom = lambda: 1/0\n",
    "\n",
    ">>> boom()\n",
    "\n",
    "```\n",
    "- Error.\n",
    "- No error (no execution of 1/0).\n",
    "- Error (executes 1/0)."
   ]
  },
  {
   "cell_type": "markdown",
   "metadata": {},
   "source": [
    "### Q4.3\n",
    "\n",
    "```python\n",
    "pow = lambda x, y: x**y\n",
    "\n",
    "def pow(x,y):\n",
    "    return x**y\n",
    "```\n",
    "\n",
    "```python\n",
    "def foo(x):\n",
    "    def f(y):\n",
    "        def g(z):\n",
    "            return x + y * z\n",
    "        return g \n",
    "    return f\n",
    "\n",
    "foo = lambda x: lambda y: lambda z: x + y * z\n",
    "```"
   ]
  },
  {
   "cell_type": "markdown",
   "metadata": {},
   "source": [
    "### Q4.5\n",
    "\n",
    "```python\n",
    "def make_skipper(n):\n",
    "    \"\"\"\n",
    "    >>> a = make_skipper(2)\n",
    "    >>> a(5)\n",
    "    1\n",
    "    3\n",
    "    5\n",
    "    \"\"\"\n",
    "    def skipper(x):\n",
    "        i = 1\n",
    "        while i <= x:\n",
    "            if i%n != 0:\n",
    "                print(i)\n",
    "            i += 1\n",
    "    return skipper\n",
    "```"
   ]
  },
  {
   "cell_type": "markdown",
   "metadata": {},
   "source": [
    "### Q4.6&7\n",
    "\n",
    "Already done at disc_02!"
   ]
  }
 ],
 "metadata": {
  "kernelspec": {
   "display_name": "Python 3",
   "language": "python",
   "name": "python3"
  },
  "language_info": {
   "codemirror_mode": {
    "name": "ipython",
    "version": 3
   },
   "file_extension": ".py",
   "mimetype": "text/x-python",
   "name": "python",
   "nbconvert_exporter": "python",
   "pygments_lexer": "ipython3",
   "version": "3.7.7"
  }
 },
 "nbformat": 4,
 "nbformat_minor": 4
}
