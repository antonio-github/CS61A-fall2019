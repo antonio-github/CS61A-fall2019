{
 "cells": [
  {
   "cell_type": "markdown",
   "metadata": {},
   "source": [
    "# Discusion 4: Tree Recursion and Lists"
   ]
  },
  {
   "cell_type": "markdown",
   "metadata": {},
   "source": [
    "## Tree Recursion"
   ]
  },
  {
   "cell_type": "markdown",
   "metadata": {},
   "source": [
    "### Q1.1\n",
    "\n",
    "- The base case would be a stair with zero steps, where no steps are needed. Therefore the simplest input is `count_stair_ways(0)`. Note that with this base case it would be needed an `elif n>0` recursive clause.\n",
    "- They represent a call with one and two steps less, respectively, i.e., the count the ways to go up a stair with `n-1` and `n-2` steps.\n",
    "- Code in Python file. In contrast to the solutions code, my code assumes a single base case.\n",
    "\n",
    "### Q1.2\n",
    "\n",
    "I did it wrong. The argument that changes in recursive calls is n, not k."
   ]
  },
  {
   "cell_type": "markdown",
   "metadata": {},
   "source": [
    "## Lists"
   ]
  },
  {
   "cell_type": "markdown",
   "metadata": {},
   "source": [
    "### Q2.1\n",
    "\n",
    "```python\n",
    ">>> a = [1, 5, 4, [2, 3], 3]\n",
    "\n",
    ">>> print(a[0], a[-1])\n",
    "1 3\n",
    ">>> len(a)\n",
    "5\n",
    ">>> 2 in a\n",
    "False\n",
    ">>> 4 in a\n",
    "True\n",
    ">>> a[3][0]\n",
    "2\n",
    "```"
   ]
  }
 ],
 "metadata": {
  "kernelspec": {
   "display_name": "Python 3",
   "language": "python",
   "name": "python3"
  },
  "language_info": {
   "codemirror_mode": {
    "name": "ipython",
    "version": 3
   },
   "file_extension": ".py",
   "mimetype": "text/x-python",
   "name": "python",
   "nbconvert_exporter": "python",
   "pygments_lexer": "ipython3",
   "version": "3.7.7"
  }
 },
 "nbformat": 4,
 "nbformat_minor": 4
}
