{
 "cells": [
  {
   "cell_type": "markdown",
   "metadata": {},
   "source": [
    "# Discussion 02: Higher Order Functions\n",
    "\n",
    "## HOFs in Environment Diagrams\n",
    "\n",
    "### Q1, 3 & 4\n",
    "\n",
    "Done at paper\n",
    "\n",
    "### Q2. \n",
    "\n",
    "```python\n",
    "curry2 = lambda h: lambda x: lambda y: h(x,y)\n",
    "```"
   ]
  },
  {
   "cell_type": "markdown",
   "metadata": {},
   "source": [
    "## Writing Higher Order Functions"
   ]
  },
  {
   "cell_type": "markdown",
   "metadata": {},
   "source": [
    "### Q1.5\n",
    "\n",
    "```python\n",
    "def keep_ints(cond, n):\n",
    "    \"\"\"Print out all integers 1..i..n where cond(i) is true\n",
    "    >>> def is_even(x):\n",
    "    ...     # Even numbers have remainder 0 when divided by 2.\n",
    "    ...     return x % 2 == 0\n",
    "    >>> keep_ints(is_even, 5)\n",
    "    2\n",
    "    4\n",
    "    \"\"\"\n",
    "    i = 1\n",
    "    while i <= n:\n",
    "        if cond(i):\n",
    "            print(i)\n",
    "        i += 1\n",
    "```"
   ]
  },
  {
   "cell_type": "markdown",
   "metadata": {},
   "source": [
    "### Q1.6\n",
    "\n",
    "```python\n",
    "def make_keeper(n):\n",
    "    \"\"\"Returns a function which takes one parameter cond and prints outall integers 1..i..n where calling cond(i) returns True.\n",
    "    >>> def is_even(x):\n",
    "    ...     # Even numbers have remainder 0 when divided by 2.\n",
    "    ...     return x % 2 == 0\n",
    "    >>> make_keeper(5)(is_even)\n",
    "    2\n",
    "    4\n",
    "    \"\"\"\n",
    "    def cond_evaluator(cond):\n",
    "        return keep_ints(cond, n)\n",
    "    return cond_evaluator\n",
    "```\n",
    "\n",
    "It basically curries `keep_ints` function. Using lambda functions:\n",
    "\n",
    "```python\n",
    "def make_keeper(n):\n",
    "    \"\"\"Returns a function which takes one parameter cond and prints outall integers 1..i..n where calling cond(i) returns True.\n",
    "    >>> def is_even(x):\n",
    "    ...     # Even numbers have remainder 0 when divided by 2.\n",
    "    ...     return x % 2 == 0\n",
    "    >>> make_keeper(5)(is_even)\n",
    "    2\n",
    "    4\n",
    "    \"\"\"\n",
    "    return lambda cond: keep_ints(cond, n)\n",
    "```"
   ]
  },
  {
   "cell_type": "markdown",
   "metadata": {},
   "source": [
    "### Q1.7\n",
    "\n",
    "Again it can be done in two equivalent ways\n",
    "```python\n",
    "def and_add(f, n):\n",
    "    \"\"\"Return a new function. This new function takes anargument x and returns f(x) + n.\n",
    "    >>> def square(x):\n",
    "    ...     return x * x\n",
    "    >>> new_square = and_add(square, 3)\n",
    "    >>> new_square(4)   # 4 * 4 + 3\n",
    "    19\n",
    "    \"\"\"\n",
    "    def add_n_to_f(x):\n",
    "        return n + f(x)\n",
    "    return add_n_to_f\n",
    "\n",
    "def and_add(f, n):\n",
    "    \"\"\"Return a new function. This new function takes anargument x and returns f(x) + n.\n",
    "    >>> def square(x):\n",
    "    ...     return x * x\n",
    "    >>> new_square = and_add(square, 3)\n",
    "    >>> new_square(4)   # 4 * 4 + 3\n",
    "    19\n",
    "    \"\"\"\n",
    "    return lambda x: n + f(x)\n",
    "```"
   ]
  }
 ],
 "metadata": {
  "kernelspec": {
   "display_name": "Python 3",
   "language": "python",
   "name": "python3"
  },
  "language_info": {
   "codemirror_mode": {
    "name": "ipython",
    "version": 3
   },
   "file_extension": ".py",
   "mimetype": "text/x-python",
   "name": "python",
   "nbconvert_exporter": "python",
   "pygments_lexer": "ipython3",
   "version": "3.7.7"
  }
 },
 "nbformat": 4,
 "nbformat_minor": 4
}
