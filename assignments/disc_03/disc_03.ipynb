{
 "cells": [
  {
   "cell_type": "markdown",
   "metadata": {},
   "source": [
    "# Discussion 3: Recursion\n",
    "\n",
    "## Questions\n",
    "\n",
    "### Q1.1\n",
    "\n",
    "- The simplest case, assuming `m` and `n` positive integers, is multiplying `m*1` or `1*n`, which returns `m` or `n` respectively.\n",
    "- `multiply(m - 1, n)` multiplies `m-1` by `n` (simplfies `m`). `multiply(m, n - 1)` the same with `n`. In principle we do not prefer one or the other, as both options work. Nevertheless, the fastest calculation takes place when the substraction is done to the minimum of `m` and `n`. Also, to keep the program simple, it is better to use only one option.\n",
    "```python\n",
    "def multiply(m, n):\n",
    "    \"\"\"\n",
    "    >>> multiply(5, 3)\n",
    "    15\n",
    "    >>> multiply(10, 4)\n",
    "    40\n",
    "    \"\"\"\n",
    "    if n == 1:\n",
    "        return m\n",
    "    else:\n",
    "        return m + multiply(m, n-1)\n",
    "```\n",
    "\n",
    "### Q1.2\n",
    "\n",
    "The environment diagram is done in paper.\n",
    "\n",
    "This function calculates $x^y$, as the base case returns 1 ($x^0$), the previous recursive call returns `x*rec(x,0)` which is `x` ($x^1$) and so on.\n",
    "\n",
    "### Q1.3\n",
    "\n",
    "Done in Python file.\n",
    "\n",
    "### Q1.4\n",
    "\n",
    "Done in Python file. The solution in solution file is better than mine because it only uses a single argument in helper function because `n` is in the scope of the helper function.\n",
    "\n",
    "### Q1.5\n",
    "\n",
    "Done in Python file. I find better my solution.\n",
    "\n",
    "### Q1.6\n",
    "Done in Python file. Same solution than solutions file."
   ]
  }
 ],
 "metadata": {
  "kernelspec": {
   "display_name": "Python 3",
   "language": "python",
   "name": "python3"
  },
  "language_info": {
   "codemirror_mode": {
    "name": "ipython",
    "version": 3
   },
   "file_extension": ".py",
   "mimetype": "text/x-python",
   "name": "python",
   "nbconvert_exporter": "python",
   "pygments_lexer": "ipython3",
   "version": "3.7.7"
  }
 },
 "nbformat": 4,
 "nbformat_minor": 4
}
